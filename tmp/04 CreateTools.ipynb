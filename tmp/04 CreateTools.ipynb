{
 "cells": [
  {
   "cell_type": "markdown",
   "metadata": {},
   "source": [
    "# Create the article retrieval tool"
   ]
  },
  {
   "cell_type": "markdown",
   "metadata": {},
   "source": [
    "## Let's start with creating the functions"
   ]
  },
  {
   "cell_type": "code",
   "execution_count": 7,
   "metadata": {},
   "outputs": [
    {
     "name": "stdout",
     "output_type": "stream",
     "text": [
      "Incorrect argument. Use on/1, off/0, or nothing for a toggle.\n"
     ]
    }
   ],
   "source": [
    "import os\n",
    "import openai\n",
    "import requests\n",
    "from pydantic import BaseModel, Field\n",
    "from typing import Optional\n",
    "\n",
    "import datetime\n",
    "from langchain.tools.render import format_tool_to_openai_function\n",
    "from langchain.chat_models import ChatOpenAI\n",
    "from langchain.agents.output_parsers import OpenAIFunctionsAgentOutputParser\n",
    "\n",
    "%pdb on # for debugging\n",
    "\n",
    "from dotenv import load_dotenv, find_dotenv\n",
    "_ = load_dotenv(find_dotenv()) # read local .env file\n",
    "openai.api_key = os.environ['OPENAI_API_KEY']\n",
    "\n",
    "from langchain.agents import tool\n",
    "\n",
    "lm_name = \"gpt-3.5-turbo-0613\"\n",
    "os.environ[\"LANGCHAIN_TRACING_V2\"] = \"true\"\n",
    "os.environ[\"LANGCHAIN_ENDPOINT\"] = \"https://api.smith.langchain.com\"\n",
    "os.environ[\"LANGCHAIN_PROJECT\"] = \"lawassist\""
   ]
  },
  {
   "cell_type": "code",
   "execution_count": 8,
   "metadata": {},
   "outputs": [],
   "source": [
    "# Define the input schema\n",
    "class ParagraphFinder(BaseModel):\n",
    "    articleNum: int = Field(..., description=\"The article number to search for. Must be specified.\")\n",
    "    articleNumMinor: Optional[str] = Field(None, description=\"The minor version of the article to search for. E.g. in Art. 123b it would be 'b'\")\n",
    "    paragraphNum: Optional[int] = Field(None, description=\"The paragraph to search for. Provide only the number of the Paragraph, without any letters like 'bis' or 'ter'. If not specified, all paragraphs of the article are returned as a list.\")\n",
    "    lawbook: str = Field(..., description=\"The lawbook to search for. Currently supported is OR and ZGB. This parameter must be supplied.\")\n",
    " \n",
    "\n",
    "@tool(args_schema=ParagraphFinder)\n",
    "def get_paragraphs(lawbook: str, articleNum: int, articleNumMinor: str = None, paragraphNum: int = None) -> dict:\n",
    "    \"\"\"Fetch all paragraph for selected lawbook, article number and paragraph. if an optional parameter is not supplied, all paragraphs of the article are returned.\"\"\"\n",
    "    \n",
    "    BASE_URL = \"http://127.0.0.1:8000/lawbook/getParagraphs\"\n",
    "    \n",
    "    # Parameters for the request\n",
    "    params = {\n",
    "        'bookName': lawbook,\n",
    "        'articleNum': articleNum,\n",
    "        'articleNumMinor': articleNumMinor,\n",
    "        'paragraphNum' : paragraphNum,\n",
    "    }\n",
    "\n",
    "    # Make the request\n",
    "    print(f\"Making request to {BASE_URL} with params: {params}\")\n",
    "    response = requests.get(BASE_URL, params=params)\n",
    "    \n",
    "    if response.status_code == 200:\n",
    "        results = response.json()\n",
    "    else:\n",
    "        raise Exception(f\"API Request failed with status code: {response.status_code}\")\n",
    "\n",
    "    return results\n",
    "    "
   ]
  },
  {
   "cell_type": "code",
   "execution_count": 9,
   "metadata": {},
   "outputs": [],
   "source": [
    "functions = [\n",
    "    format_tool_to_openai_function(f) for f in [\n",
    "        get_paragraphs\n",
    "    ]\n",
    "]\n",
    "model = ChatOpenAI(temperature=0, model=lm_name).bind(functions=functions)"
   ]
  },
  {
   "cell_type": "code",
   "execution_count": 22,
   "metadata": {},
   "outputs": [
    {
     "data": {
      "text/plain": [
       "AIMessage(content='', additional_kwargs={'function_call': {'name': 'get_paragraphs', 'arguments': '{\\n  \"articleNum\": 12,\\n  \"lawbook\": \"OR\"\\n}'}})"
      ]
     },
     "execution_count": 22,
     "metadata": {},
     "output_type": "execute_result"
    }
   ],
   "source": [
    "model.invoke(\"what is the exact paragraph of Art. 12 OR?\")"
   ]
  },
  {
   "cell_type": "code",
   "execution_count": 10,
   "metadata": {},
   "outputs": [],
   "source": [
    "# define the prompt\n",
    "from langchain.prompts import ChatPromptTemplate\n",
    "prompt = ChatPromptTemplate.from_messages([\n",
    "    (\"system\", \"You are helpful and smart legal assistant to a Swiss layer\"),\n",
    "    (\"user\", \"{input}\"),\n",
    "])\n"
   ]
  },
  {
   "cell_type": "code",
   "execution_count": 11,
   "metadata": {},
   "outputs": [],
   "source": [
    "from langchain.schema.agent import AgentFinish\n",
    "def route(result):\n",
    "    if isinstance(result, AgentFinish):\n",
    "        return result.return_values['output']\n",
    "    else:\n",
    "        tools = {\n",
    "            \"get_paragraphs\": get_paragraphs, \n",
    "        }\n",
    "        return tools[result.tool].run(result.tool_input)"
   ]
  },
  {
   "cell_type": "code",
   "execution_count": 12,
   "metadata": {},
   "outputs": [],
   "source": [
    "chain = prompt | model | OpenAIFunctionsAgentOutputParser() | route"
   ]
  },
  {
   "cell_type": "code",
   "execution_count": 21,
   "metadata": {},
   "outputs": [
    {
     "name": "stdout",
     "output_type": "stream",
     "text": [
      "Making request to http://127.0.0.1:8000/lawbook/getParagraphs with params: {'bookName': 'OR', 'articleNum': 1, 'articleNumMinor': None, 'paragraphNum': None}\n",
      "Result:  [{'id': '4451', 'bookName': 'OR', 'levelId': 'part_1/tit_1/chap_1/lvl_A', 'paragraphEid': 'art_1/para_1', 'paragraphText': 'Zum Abschlusse eines Vertrages ist die übereinstimmende gegenseitige Willensäusserung der Parteien erforderlich.', 'footnoteText': None, 'articleNum': 1, 'articleNumMinor': None, 'paragraphNum': 1, 'paragraphNumMinor': None}, {'id': '4452', 'bookName': 'OR', 'levelId': 'part_1/tit_1/chap_1/lvl_A', 'paragraphEid': 'art_1/para_2', 'paragraphText': 'Sie kann eine ausdrückliche oder stillschweigende sein.', 'footnoteText': None, 'articleNum': 1, 'articleNumMinor': None, 'paragraphNum': 2, 'paragraphNumMinor': None}]\n"
     ]
    }
   ],
   "source": [
    "result = chain.invoke({\"input\": \"what is the exact paragraph of Art. 1 OR?\"})\n",
    "print(\"Result: \", result)"
   ]
  },
  {
   "cell_type": "markdown",
   "metadata": {},
   "source": [
    "### Now let's parse out the results and give it back"
   ]
  },
  {
   "cell_type": "code",
   "execution_count": 29,
   "metadata": {},
   "outputs": [
    {
     "data": {
      "text/html": [
       "<div>\n",
       "<style scoped>\n",
       "    .dataframe tbody tr th:only-of-type {\n",
       "        vertical-align: middle;\n",
       "    }\n",
       "\n",
       "    .dataframe tbody tr th {\n",
       "        vertical-align: top;\n",
       "    }\n",
       "\n",
       "    .dataframe thead th {\n",
       "        text-align: right;\n",
       "    }\n",
       "</style>\n",
       "<table border=\"1\" class=\"dataframe\">\n",
       "  <thead>\n",
       "    <tr style=\"text-align: right;\">\n",
       "      <th></th>\n",
       "      <th>Lawbook</th>\n",
       "      <th>Article Number</th>\n",
       "      <th>Paragraph Number</th>\n",
       "      <th>Paragraph Text</th>\n",
       "    </tr>\n",
       "  </thead>\n",
       "  <tbody>\n",
       "    <tr>\n",
       "      <th>0</th>\n",
       "      <td>OR</td>\n",
       "      <td>1</td>\n",
       "      <td>1</td>\n",
       "      <td>Zum Abschlusse eines Vertrages ist die überein...</td>\n",
       "    </tr>\n",
       "    <tr>\n",
       "      <th>1</th>\n",
       "      <td>OR</td>\n",
       "      <td>1</td>\n",
       "      <td>2</td>\n",
       "      <td>Sie kann eine ausdrückliche oder stillschweige...</td>\n",
       "    </tr>\n",
       "  </tbody>\n",
       "</table>\n",
       "</div>"
      ],
      "text/plain": [
       "  Lawbook  ...                                     Paragraph Text\n",
       "0      OR  ...  Zum Abschlusse eines Vertrages ist die überein...\n",
       "1      OR  ...  Sie kann eine ausdrückliche oder stillschweige...\n",
       "\n",
       "[2 rows x 4 columns]"
      ]
     },
     "execution_count": 29,
     "metadata": {},
     "output_type": "execute_result"
    }
   ],
   "source": [
    "from langchain.output_parsers import StructuredOutputParser\n",
    "import pandas as df\n",
    "\n",
    "\n",
    "def parse_law_data(json_data)->list:\n",
    "    parsed_data = []\n",
    "    for entry in json_data:\n",
    "        row = {\n",
    "            'Lawbook': entry['bookName'],\n",
    "            'Article Number': entry['articleNum'],\n",
    "            'Paragraph Number': entry.get('paragraphNum', ''),\n",
    "            'Paragraph Text': entry['paragraphText']\n",
    "        }\n",
    "        parsed_data.append(row)\n",
    "    return parsed_data\n",
    "\n",
    "\n",
    "table_data = parse_law_data(result)\n",
    "data = df.DataFrame(table_data)\n",
    "#print all data in a table 'data' in a pretty format\n",
    "data\n"
   ]
  },
  {
   "cell_type": "code",
   "execution_count": null,
   "metadata": {},
   "outputs": [],
   "source": []
  }
 ],
 "metadata": {
  "kernelspec": {
   "display_name": "lawassist",
   "language": "python",
   "name": "python3"
  },
  "language_info": {
   "codemirror_mode": {
    "name": "ipython",
    "version": 3
   },
   "file_extension": ".py",
   "mimetype": "text/x-python",
   "name": "python",
   "nbconvert_exporter": "python",
   "pygments_lexer": "ipython3",
   "version": "3.11.0"
  }
 },
 "nbformat": 4,
 "nbformat_minor": 2
}
