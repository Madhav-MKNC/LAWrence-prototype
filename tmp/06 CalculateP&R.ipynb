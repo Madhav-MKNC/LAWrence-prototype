{
 "cells": [
  {
   "cell_type": "markdown",
   "metadata": {},
   "source": [
    "# Calcutes Precision and Recall based on exact String Matching"
   ]
  },
  {
   "cell_type": "code",
   "execution_count": 3,
   "metadata": {},
   "outputs": [
    {
     "name": "stdout",
     "output_type": "stream",
     "text": [
      "Precision: 0.2\n",
      "Recall: 0.3333333333333333\n"
     ]
    }
   ],
   "source": [
    "## Calculate Precesion and recall for a given set of predictions and ground truth\n",
    "## calculation works on the number of true positives (TP) and false positives (FP) and false negatives (FN)\n",
    "\n",
    "def calculate_precision_recall(human_labeled_set, predicted_set):\n",
    "    # Handling edge case where either set is empty\n",
    "    if not human_labeled_set or not predicted_set:\n",
    "        return 0, 0\n",
    "\n",
    "    # Convert both sets to lowercase for case-insensitive comparison\n",
    "    human_labeled_set = {s.lower() for s in human_labeled_set}\n",
    "    predicted_set = {s.lower() for s in predicted_set}\n",
    "\n",
    "    # Calculate True Positives (TP), False Positives (FP), and False Negatives (FN)\n",
    "    true_positives = human_labeled_set.intersection(predicted_set)\n",
    "    false_positives = predicted_set.difference(human_labeled_set)\n",
    "    false_negatives = human_labeled_set.difference(predicted_set)\n",
    "\n",
    "    # Calculate Precision and Recall\n",
    "    precision = 0 if not true_positives else len(true_positives) / (len(true_positives) + len(false_positives))\n",
    "    recall = 0 if not true_positives else len(true_positives) / (len(true_positives) + len(false_negatives))\n",
    "\n",
    "    return precision, recall\n",
    "\n",
    "# Example usage\n",
    "human_labeled = [\"Art. 28 ZGB\", \"Art. 19c ZGB\", \"Art. 27 Abs. 2 ZGB\"]\n",
    "predicted = [\"ART. 10 URG\", \"ART. 11 URG\", \"ART. 27a OR\", \"ART. 28 OR\", \"ART. 28 ZGB\"]\n",
    "\n",
    "precision, recall = calculate_precision_recall(human_labeled, predicted)\n",
    "print(\"Precision:\", precision)\n",
    "print(\"Recall:\", recall)\n"
   ]
  },
  {
   "cell_type": "markdown",
   "metadata": {},
   "source": [
    "# Calculates Precision & Recall based on Articles and Sub-Articles (without considering paragraphs)"
   ]
  },
  {
   "cell_type": "code",
   "execution_count": 5,
   "metadata": {},
   "outputs": [
    {
     "name": "stdout",
     "output_type": "stream",
     "text": [
      "Precision: 0.6666666666666666\n",
      "Recall: 0.6666666666666666\n"
     ]
    }
   ],
   "source": [
    "import re\n",
    "\n",
    "def extract_article_reference(article_string):\n",
    "    \"\"\"\n",
    "    Extracts the article number and minor (if any) from a legal article reference string.\n",
    "    For example, 'Art. 34a Abs. 2 OR' -> '34a'\n",
    "    \"\"\"\n",
    "    match = re.search(r'Art\\.\\s*(\\d+[a-z]?)', article_string)\n",
    "    return match.group(1).lower() if match else None\n",
    "\n",
    "def is_subset_article(human_article, predicted_article):\n",
    "    \"\"\"\n",
    "    Checks if the predicted article is the same as or a subset of the human-labeled article.\n",
    "    For example, '34' is a subset of '34a', and '34' matches '34'.\n",
    "    \"\"\"\n",
    "    return predicted_article.startswith(human_article)\n",
    "\n",
    "def calculate_precision_recall_legal_articles(human_labeled_set, predicted_set):\n",
    "    # Extract and normalize article references\n",
    "    human_articles = {extract_article_reference(s) for s in human_labeled_set}\n",
    "    predicted_articles = {extract_article_reference(s) for s in predicted_set}\n",
    "\n",
    "    # Remove None values that might occur if extraction fails\n",
    "    human_articles.discard(None)\n",
    "    predicted_articles.discard(None)\n",
    "\n",
    "    # Handling edge case where either set is empty\n",
    "    if not human_articles or not predicted_articles:\n",
    "        return 0, 0\n",
    "\n",
    "    # Calculate True Positives (TP), False Positives (FP), and False Negatives (FN)\n",
    "    true_positives = {pred for pred in predicted_articles for hum in human_articles if is_subset_article(hum, pred)}\n",
    "    false_positives = predicted_articles.difference(true_positives)\n",
    "    false_negatives = {hum for hum in human_articles if not any(is_subset_article(hum, pred) for pred in predicted_articles)}\n",
    "\n",
    "    # Calculate Precision and Recall\n",
    "    precision = len(true_positives) / len(predicted_articles)\n",
    "    recall = len(true_positives) / len(human_articles)\n",
    "\n",
    "    return precision, recall\n",
    "\n",
    "# Example usage\n",
    "human_labeled = [\"Art. 34 OR\", \"Art. 45a Abs. 3 OR\", \"Art. 67 Abs. 4 OR\"]\n",
    "predicted = [\"Art. 34a OR\", \"Art. 45 OR\", \"Art. 67b Abs. 2 OR\"]\n",
    "\n",
    "precision, recall = calculate_precision_recall_legal_articles(human_labeled, predicted)\n",
    "print(\"Precision:\", precision)\n",
    "print(\"Recall:\", recall)\n"
   ]
  },
  {
   "cell_type": "code",
   "execution_count": null,
   "metadata": {},
   "outputs": [],
   "source": []
  }
 ],
 "metadata": {
  "kernelspec": {
   "display_name": "Python 3",
   "language": "python",
   "name": "python3"
  },
  "language_info": {
   "codemirror_mode": {
    "name": "ipython",
    "version": 3
   },
   "file_extension": ".py",
   "mimetype": "text/x-python",
   "name": "python",
   "nbconvert_exporter": "python",
   "pygments_lexer": "ipython3",
   "version": "3.9.13"
  }
 },
 "nbformat": 4,
 "nbformat_minor": 2
}
